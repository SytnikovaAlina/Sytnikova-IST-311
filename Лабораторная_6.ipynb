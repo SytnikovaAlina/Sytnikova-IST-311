{
  "nbformat": 4,
  "nbformat_minor": 0,
  "metadata": {
    "colab": {
      "provenance": []
    },
    "kernelspec": {
      "name": "python3",
      "display_name": "Python 3"
    },
    "language_info": {
      "name": "python"
    }
  },
  "cells": [
    {
      "cell_type": "code",
      "source": [
        "import matplotlib.pyplot as plt\n"
      ],
      "metadata": {
        "id": "yTCKFAjOtij8"
      },
      "execution_count": 1,
      "outputs": []
    },
    {
      "cell_type": "code",
      "execution_count": 2,
      "metadata": {
        "id": "RCSIC9ZTk89k"
      },
      "outputs": [],
      "source": [
        "from sklearn.linear_model import LinearRegression"
      ]
    },
    {
      "cell_type": "code",
      "execution_count": 3,
      "metadata": {
        "id": "qFM7xgnofFbU"
      },
      "outputs": [],
      "source": [
        "celsius = [[-67.0], [-34.0], [0], [34.0], [54.0], [67.0], [100]]\n",
        "fahrenheit = [[-88.6], [-29.2], [32.0], [93.2], [129.2], [152.6], [212.0]]"
      ]
    },
    {
      "cell_type": "code",
      "source": [
        "plt.figure(figsize=(15,8), dpi=50)\n",
        "plt.scatter(celsius, fahrenheit, label='входные значения', color='green', marker='$f$');\n",
        "plt.xlabel('celsius')\n",
        "plt.ylabel('fahrenheit')\n",
        "plt.legend()\n",
        "plt.grid(True)\n",
        "plt.show()\n",
        "\n"
      ],
      "metadata": {
        "id": "4_mseVHJiA9Y"
      },
      "execution_count": null,
      "outputs": []
    },
    {
      "cell_type": "code",
      "source": [
        "for c,f in zip(celsius, fahrenheit):\n",
        "  print(f'целсия {c} фаренгейт {f}' )"
      ],
      "metadata": {
        "id": "oiUti7xw5l6d"
      },
      "execution_count": null,
      "outputs": []
    },
    {
      "cell_type": "markdown",
      "source": [
        "--------------------------------------------------------------------------------"
      ],
      "metadata": {
        "id": "G1z0V1Cz5VO2"
      }
    },
    {
      "cell_type": "code",
      "source": [
        "lr = LinearRegression()"
      ],
      "metadata": {
        "id": "Zvj57MOxmO5E"
      },
      "execution_count": 8,
      "outputs": []
    },
    {
      "cell_type": "code",
      "source": [
        "lr.fit(celsius, fahrenheit)"
      ],
      "metadata": {
        "id": "K_OBTS2KmVjZ"
      },
      "execution_count": null,
      "outputs": []
    },
    {
      "cell_type": "code",
      "source": [
        "lr.predict([[256], [123]])"
      ],
      "metadata": {
        "id": "CsW2DGblmfkT"
      },
      "execution_count": null,
      "outputs": []
    },
    {
      "cell_type": "code",
      "source": [
        "lr.coef_"
      ],
      "metadata": {
        "id": "LRkoU4q4mrVg"
      },
      "execution_count": null,
      "outputs": []
    },
    {
      "cell_type": "code",
      "source": [
        "lr.intercept_"
      ],
      "metadata": {
        "id": "2YztTGFPmvCJ"
      },
      "execution_count": null,
      "outputs": []
    },
    {
      "cell_type": "code",
      "source": [
        "celsius_test = [[-50], [10], [30], [20], [10], [70], [87]]\n",
        "fahrenheit_test= lr.predict(celsius_test)"
      ],
      "metadata": {
        "id": "d-9HyFxtm-K1"
      },
      "execution_count": 18,
      "outputs": []
    },
    {
      "cell_type": "code",
      "source": [
        "fahrenheit_test"
      ],
      "metadata": {
        "id": "UGEXd9dknpV-",
        "colab": {
          "base_uri": "https://localhost:8080/"
        },
        "outputId": "54a0905d-3653-49d6-ed0f-5098c00fb016"
      },
      "execution_count": 53,
      "outputs": [
        {
          "output_type": "execute_result",
          "data": {
            "text/plain": [
              "array([[-58. ],\n",
              "       [ 50. ],\n",
              "       [ 86. ],\n",
              "       [ 68. ],\n",
              "       [ 50. ],\n",
              "       [158. ],\n",
              "       [188.6]])"
            ]
          },
          "metadata": {},
          "execution_count": 53
        }
      ]
    },
    {
      "cell_type": "code",
      "source": [
        "for c,f in zip(celsius_test, fahrenheit_test):\n",
        "  print(f'целсия {c} фаренгейт {f}' )"
      ],
      "metadata": {
        "id": "WeNLadj7oNli"
      },
      "execution_count": null,
      "outputs": []
    },
    {
      "cell_type": "code",
      "source": [
        "import numpy as np"
      ],
      "metadata": {
        "id": "v2USh7DPsBai"
      },
      "execution_count": 26,
      "outputs": []
    },
    {
      "cell_type": "code",
      "source": [
        "x_range = np.arange(-70,120)\n",
        "y_range = x_range*1.8+32"
      ],
      "metadata": {
        "id": "iMjCQMqbtJwJ"
      },
      "execution_count": 22,
      "outputs": []
    },
    {
      "cell_type": "code",
      "source": [
        "plt.figure(figsize=(15,8), dpi=280)\n",
        "plt.plot(x_range, y_range, linewidth=1,)\n",
        "plt.scatter(celsius, fahrenheit, label='входные значения', color='green')\n",
        "plt.scatter(celsius_test, fahrenheit_test, label='предсказанное значение', color='blue')\n",
        "plt.xlabel('Цельсия')\n",
        "plt.ylabel('Фаренгейта')\n",
        "plt.legend()\n",
        "plt.grid(True)\n",
        "plt.show()\n"
      ],
      "metadata": {
        "id": "wbpSIk_gwTcR"
      },
      "execution_count": null,
      "outputs": []
    },
    {
      "cell_type": "markdown",
      "source": [
        "Самостоятельная работа"
      ],
      "metadata": {
        "id": "h13JhJV50E__"
      }
    },
    {
      "cell_type": "markdown",
      "source": [
        "Номер 1"
      ],
      "metadata": {
        "id": "qxU375iK-mex"
      }
    },
    {
      "cell_type": "code",
      "source": [
        "fahrenheit = [[-88.6], [-29.2], [32.0], [93.2], [129.2], [152.6], [212.0]]\n",
        "kelvin = [[206.15], [239.15], [273.15], [307.15], [327.15], [340.15], [373.15]]"
      ],
      "metadata": {
        "id": "iNY8TMBe0Jah"
      },
      "execution_count": 36,
      "outputs": []
    },
    {
      "cell_type": "code",
      "source": [
        "plt.figure(figsize=(15,8), dpi=90)\n",
        "plt.scatter( fahrenheit,kelvin, label='входные значения', color='blue', marker='$K$')\n",
        "plt.xlabel('fahrenheit')\n",
        "plt.ylabel('kelvin')\n",
        "plt.legend()\n",
        "plt.grid(True)\n",
        "plt.show()"
      ],
      "metadata": {
        "id": "COipm67s3h2c"
      },
      "execution_count": null,
      "outputs": []
    },
    {
      "cell_type": "code",
      "source": [
        "for f,k in zip(fahrenheit, kelvin ):\n",
        "  print(f'фаренгейт {f} кельвина {k}' )"
      ],
      "metadata": {
        "id": "6ehai2Az4R2G"
      },
      "execution_count": null,
      "outputs": []
    },
    {
      "cell_type": "markdown",
      "source": [
        "--------------------------------------------------------------------------------"
      ],
      "metadata": {
        "id": "ixCWor0z6MeN"
      }
    },
    {
      "cell_type": "code",
      "source": [
        "lr.fit(fahrenheit, kelvin)\n",
        "lr.predict([[256], [123]])\n",
        "lr.coef_\n",
        "lr.intercept_\n",
        "fahrenheit_test = [ [-58. ], [ 50. ], [ 86. ], [ 68. ], [ 50. ], [158. ], [188.6] ]\n",
        "kelvin_test = lr.predict(fahrenheit_test)\n",
        "kelvin_test"
      ],
      "metadata": {
        "id": "EldHHbYH6ROI"
      },
      "execution_count": null,
      "outputs": []
    },
    {
      "cell_type": "code",
      "source": [
        "for f,k in zip(fahrenheit_test, kelvin_test ):\n",
        "  print(f'фаренгейт {f} кельвина {k}' )"
      ],
      "metadata": {
        "id": "w_fU46-R9PoD"
      },
      "execution_count": null,
      "outputs": []
    },
    {
      "cell_type": "code",
      "source": [
        "x_range = np.arange(-100, 330)\n",
        "y_range = (x_range+459.67)*5/9"
      ],
      "metadata": {
        "id": "2NaCMil69Z-h"
      },
      "execution_count": 66,
      "outputs": []
    },
    {
      "cell_type": "code",
      "source": [
        "plt.figure(figsize=(15,8), dpi=90)\n",
        "plt.plot(x_range, y_range, linewidth=0.5,)\n",
        "plt.scatter(fahrenheit, kelvin, label='входные значения', color='green')\n",
        "plt.scatter(fahrenheit_test, kelvin_test, label='предсказанное значение', color='blue')\n",
        "plt.xlabel('Фаренгейта')\n",
        "plt.ylabel('Кельвина')\n",
        "plt.legend()\n",
        "plt.grid(True)\n",
        "plt.show()"
      ],
      "metadata": {
        "id": "x83rLZo6-kkx"
      },
      "execution_count": null,
      "outputs": []
    },
    {
      "cell_type": "code",
      "source": [],
      "metadata": {
        "id": "DhXhk65ACC_J"
      },
      "execution_count": null,
      "outputs": []
    }
  ]
}